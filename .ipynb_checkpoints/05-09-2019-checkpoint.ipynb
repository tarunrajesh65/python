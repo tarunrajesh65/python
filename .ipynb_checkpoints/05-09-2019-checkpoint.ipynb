{
 "cells": [
  {
   "cell_type": "code",
   "execution_count": null,
   "metadata": {},
   "outputs": [],
   "source": [
    "# 05-09-2019"
   ]
  },
  {
   "cell_type": "markdown",
   "metadata": {},
   "source": [
    "# this is first programm"
   ]
  },
  {
   "cell_type": "markdown",
   "metadata": {},
   "source": [
    "## this is second programm"
   ]
  },
  {
   "cell_type": "markdown",
   "metadata": {},
   "source": [
    "### this is third programm"
   ]
  },
  {
   "cell_type": "markdown",
   "metadata": {},
   "source": [
    "#### this is fourth programm"
   ]
  },
  {
   "cell_type": "code",
   "execution_count": null,
   "metadata": {},
   "outputs": [],
   "source": [
    "# addition of two numbers"
   ]
  },
  {
   "cell_type": "code",
   "execution_count": 1,
   "metadata": {},
   "outputs": [
    {
     "data": {
      "text/plain": [
       "30"
      ]
     },
     "execution_count": 1,
     "metadata": {},
     "output_type": "execute_result"
    }
   ],
   "source": [
    "10+20"
   ]
  },
  {
   "cell_type": "code",
   "execution_count": 2,
   "metadata": {},
   "outputs": [
    {
     "data": {
      "text/plain": [
       "10"
      ]
     },
     "execution_count": 2,
     "metadata": {},
     "output_type": "execute_result"
    }
   ],
   "source": [
    "20-10"
   ]
  },
  {
   "cell_type": "code",
   "execution_count": 5,
   "metadata": {},
   "outputs": [
    {
     "data": {
      "text/plain": [
       "20"
      ]
     },
     "execution_count": 5,
     "metadata": {},
     "output_type": "execute_result"
    }
   ],
   "source": [
    "40-20"
   ]
  },
  {
   "cell_type": "code",
   "execution_count": 9,
   "metadata": {},
   "outputs": [
    {
     "ename": "SyntaxError",
     "evalue": "invalid syntax (<ipython-input-9-1136843febef>, line 1)",
     "output_type": "error",
     "traceback": [
      "\u001b[1;36m  File \u001b[1;32m\"<ipython-input-9-1136843febef>\"\u001b[1;36m, line \u001b[1;32m1\u001b[0m\n\u001b[1;33m    n=intput(enter two values a,b)\u001b[0m\n\u001b[1;37m                     ^\u001b[0m\n\u001b[1;31mSyntaxError\u001b[0m\u001b[1;31m:\u001b[0m invalid syntax\n"
     ]
    }
   ],
   "source": [
    "n=intput(enter two values a,b)\n",
    "print(n)"
   ]
  },
  {
   "cell_type": "code",
   "execution_count": null,
   "metadata": {},
   "outputs": [],
   "source": [
    "n=int(input(enter two values))"
   ]
  },
  {
   "cell_type": "code",
   "execution_count": 10,
   "metadata": {},
   "outputs": [
    {
     "ename": "NameError",
     "evalue": "name 'n' is not defined",
     "output_type": "error",
     "traceback": [
      "\u001b[1;31m---------------------------------------------------------------------------\u001b[0m",
      "\u001b[1;31mNameError\u001b[0m                                 Traceback (most recent call last)",
      "\u001b[1;32m<ipython-input-10-349653be3a92>\u001b[0m in \u001b[0;36m<module>\u001b[1;34m\u001b[0m\n\u001b[1;32m----> 1\u001b[1;33m \u001b[0mprint\u001b[0m\u001b[1;33m(\u001b[0m\u001b[0mn\u001b[0m\u001b[1;33m)\u001b[0m\u001b[1;33m\u001b[0m\u001b[1;33m\u001b[0m\u001b[0m\n\u001b[0m",
      "\u001b[1;31mNameError\u001b[0m: name 'n' is not defined"
     ]
    }
   ],
   "source": [
    "print(n)"
   ]
  },
  {
   "cell_type": "code",
   "execution_count": null,
   "metadata": {},
   "outputs": [],
   "source": [
    "#addition of two numbers"
   ]
  },
  {
   "cell_type": "code",
   "execution_count": 12,
   "metadata": {},
   "outputs": [
    {
     "name": "stdout",
     "output_type": "stream",
     "text": [
      "enter a value25\n",
      "enter b value25\n",
      "50\n"
     ]
    }
   ],
   "source": [
    "a=(int(input(\"enter a value\")))\n",
    "b=(int(input(\"enter b value\")))\n",
    "c=a+b\n",
    "print(c)"
   ]
  },
  {
   "cell_type": "code",
   "execution_count": null,
   "metadata": {},
   "outputs": [],
   "source": [
    "#mul of two numbers"
   ]
  },
  {
   "cell_type": "code",
   "execution_count": 15,
   "metadata": {},
   "outputs": [
    {
     "name": "stdout",
     "output_type": "stream",
     "text": [
      "enter a value20\n",
      "enter b value10\n",
      "10\n"
     ]
    }
   ],
   "source": [
    "a=(int(input(\"enter a value\")))\n",
    "b=(int(input(\"enter b value\")))\n",
    "c=a-b\n",
    "print(c)"
   ]
  },
  {
   "cell_type": "code",
   "execution_count": 37,
   "metadata": {},
   "outputs": [],
   "source": [
    "#condition statement"
   ]
  },
  {
   "cell_type": "code",
   "execution_count": 65,
   "metadata": {},
   "outputs": [
    {
     "name": "stdout",
     "output_type": "stream",
     "text": [
      "enter a value4\n",
      "enter b value6\n",
      "6 is greater\n"
     ]
    }
   ],
   "source": [
    "a=(int(input(\"enter a value\")))\n",
    "b=(int(input(\"enter b value\")))\n",
    "if a==b:\n",
    "  print(\"both are equal\")\n",
    "elif a>b:\n",
    "  print(a,\"is greater\")\n",
    "else:\n",
    "  print(b,\"is greater\") "
   ]
  },
  {
   "cell_type": "markdown",
   "metadata": {},
   "source": [
    "import calendar\n",
    "year=2019\n",
    "month=9\n",
    "print(calendar.month(year,month))\n"
   ]
  },
  {
   "cell_type": "code",
   "execution_count": 79,
   "metadata": {},
   "outputs": [
    {
     "name": "stdout",
     "output_type": "stream",
     "text": [
      "enter a year2050\n",
      "enter a month5\n",
      "      May 2050\n",
      "Mo Tu We Th Fr Sa Su\n",
      "                   1\n",
      " 2  3  4  5  6  7  8\n",
      " 9 10 11 12 13 14 15\n",
      "16 17 18 19 20 21 22\n",
      "23 24 25 26 27 28 29\n",
      "30 31\n",
      "\n"
     ]
    }
   ],
   "source": [
    "import calendar\n",
    "a=(int(input(\"enter a year\")))\n",
    "b=(int(input(\"enter a month\")))\n",
    "print(calendar.month(a,b))"
   ]
  },
  {
   "cell_type": "markdown",
   "metadata": {},
   "source": [
    "loops concept"
   ]
  },
  {
   "cell_type": "code",
   "execution_count": 53,
   "metadata": {},
   "outputs": [
    {
     "name": "stdout",
     "output_type": "stream",
     "text": [
      "0\n",
      "1\n",
      "2\n",
      "3\n",
      "4\n",
      "5\n",
      "6\n",
      "7\n",
      "8\n",
      "9\n"
     ]
    }
   ],
   "source": [
    "for i in range(10):\n",
    "    print(i)"
   ]
  },
  {
   "cell_type": "markdown",
   "metadata": {},
   "source": [
    "x=[\"pachipulusu\",\"tarun\",\"rajesh\"]\n",
    "for i in x:\n",
    "    print(i)\n",
    "\n",
    "\n",
    "\n"
   ]
  },
  {
   "cell_type": "code",
   "execution_count": 48,
   "metadata": {},
   "outputs": [
    {
     "name": "stdout",
     "output_type": "stream",
     "text": [
      "['pachipulusu', 'tarun'] ['tarun', 'rajesh']\n",
      "['pachipulusu', 'tarun'] ['tarun', 'rajesh']\n",
      "['pachipulusu', 'tarun'] ['tarun', 'rajesh']\n",
      "['pachipulusu', 'tarun'] ['tarun', 'rajesh']\n"
     ]
    }
   ],
   "source": [
    "x=[\"pachipulusu\",\"tarun\"]\n",
    "y=[\"tarun\",\"rajesh\"]\n",
    "for i in x:\n",
    "    for j in y:\n",
    "        print(x,y)"
   ]
  },
  {
   "cell_type": "markdown",
   "metadata": {},
   "source": [
    "# functions concept"
   ]
  },
  {
   "cell_type": "markdown",
   "metadata": {},
   "source": [
    "syntax for function"
   ]
  },
  {
   "cell_type": "code",
   "execution_count": 54,
   "metadata": {},
   "outputs": [
    {
     "data": {
      "text/plain": [
       "30"
      ]
     },
     "execution_count": 54,
     "metadata": {},
     "output_type": "execute_result"
    }
   ],
   "source": [
    "def add(x,y):\n",
    "    c=x+y\n",
    "    return c\n",
    "a=10\n",
    "b=20\n",
    "add(a,b)"
   ]
  },
  {
   "cell_type": "code",
   "execution_count": 55,
   "metadata": {},
   "outputs": [
    {
     "data": {
      "text/plain": [
       "10"
      ]
     },
     "execution_count": 55,
     "metadata": {},
     "output_type": "execute_result"
    }
   ],
   "source": [
    "def sub(x,y):\n",
    "    c=x-y\n",
    "    return c\n",
    "a=20\n",
    "b=10\n",
    "sub(a,b)"
   ]
  },
  {
   "cell_type": "code",
   "execution_count": 57,
   "metadata": {},
   "outputs": [
    {
     "data": {
      "text/plain": [
       "800"
      ]
     },
     "execution_count": 57,
     "metadata": {},
     "output_type": "execute_result"
    }
   ],
   "source": [
    "def mul(x,y):\n",
    "    c=x*y\n",
    "    return c\n",
    "a=20\n",
    "b=40\n",
    "mul(a,b)"
   ]
  },
  {
   "cell_type": "code",
   "execution_count": 60,
   "metadata": {},
   "outputs": [
    {
     "name": "stdout",
     "output_type": "stream",
     "text": [
      "enter a value40\n",
      "enter a value20\n",
      "60\n",
      "20\n",
      "800\n"
     ]
    }
   ],
   "source": [
    "a=(int(input(\"enter a value\")))\n",
    "b=(int(input(\"enter a value\")))\n",
    "c=a+b\n",
    "d=a-b\n",
    "e=a*b\n",
    "print(c)\n",
    "print(d)\n",
    "print(e)"
   ]
  },
  {
   "cell_type": "code",
   "execution_count": 61,
   "metadata": {},
   "outputs": [
    {
     "name": "stdout",
     "output_type": "stream",
     "text": [
      "enter a value2\n",
      "enter a value4\n",
      "6\n",
      "8\n",
      "-2\n"
     ]
    }
   ],
   "source": [
    "def add(a,b):\n",
    "    c=a+b\n",
    "    return c\n",
    "def mul(a,b):\n",
    "    c=a*b\n",
    "    return c\n",
    "def sub(a,b):\n",
    "    c=a-b\n",
    "    return c\n",
    "a=(int(input(\"enter a value\")))\n",
    "b=(int(input(\"enter a value\")))\n",
    "print(add(a,b))\n",
    "print(mul(a,b))\n",
    "print(sub(a,b))"
   ]
  },
  {
   "cell_type": "code",
   "execution_count": 76,
   "metadata": {},
   "outputs": [
    {
     "name": "stdout",
     "output_type": "stream",
     "text": [
      "enter a table14\n",
      "multiplication of given table is 14\n",
      "14 x 1 = 14\n",
      "14 x 2 = 28\n",
      "14 x 3 = 42\n",
      "14 x 4 = 56\n",
      "14 x 5 = 70\n",
      "14 x 6 = 84\n",
      "14 x 7 = 98\n",
      "14 x 8 = 112\n",
      "14 x 9 = 126\n",
      "14 x 10 = 140\n"
     ]
    }
   ],
   "source": [
    "num=int(input(\"enter a table\"))\n",
    "print(\"multiplication of given table is\",num)\n",
    "for i in range(1,11):\n",
    "    print(num,\"x\",i,\"=\",num*i)"
   ]
  },
  {
   "cell_type": "code",
   "execution_count": 77,
   "metadata": {},
   "outputs": [
    {
     "name": "stdout",
     "output_type": "stream",
     "text": [
      "enter a number164\n",
      "even number\n"
     ]
    }
   ],
   "source": [
    "a=(int(input(\"enter a number\")))\n",
    "if(a%2==0):\n",
    "    print(\"even number\")\n",
    "else:    \n",
    "    print(\"odd\")"
   ]
  },
  {
   "cell_type": "code",
   "execution_count": 13,
   "metadata": {},
   "outputs": [
    {
     "name": "stdout",
     "output_type": "stream",
     "text": [
      "enter a number7\n"
     ]
    },
    {
     "ename": "NameError",
     "evalue": "name 'factorial' is not defined",
     "output_type": "error",
     "traceback": [
      "\u001b[1;31m---------------------------------------------------------------------------\u001b[0m",
      "\u001b[1;31mNameError\u001b[0m                                 Traceback (most recent call last)",
      "\u001b[1;32m<ipython-input-13-d93e0b08749a>\u001b[0m in \u001b[0;36m<module>\u001b[1;34m\u001b[0m\n\u001b[0;32m      6\u001b[0m \u001b[1;32melse\u001b[0m\u001b[1;33m:\u001b[0m\u001b[1;33m\u001b[0m\u001b[1;33m\u001b[0m\u001b[0m\n\u001b[0;32m      7\u001b[0m     \u001b[1;32mfor\u001b[0m \u001b[0mi\u001b[0m \u001b[1;32min\u001b[0m \u001b[0mrange\u001b[0m \u001b[1;33m(\u001b[0m\u001b[1;36m1\u001b[0m\u001b[1;33m,\u001b[0m\u001b[0mnum\u001b[0m\u001b[1;33m+\u001b[0m\u001b[1;36m1\u001b[0m\u001b[1;33m)\u001b[0m\u001b[1;33m:\u001b[0m\u001b[1;33m\u001b[0m\u001b[1;33m\u001b[0m\u001b[0m\n\u001b[1;32m----> 8\u001b[1;33m       \u001b[0mfactorial\u001b[0m\u001b[1;33m=\u001b[0m\u001b[0mfactorial\u001b[0m\u001b[1;33m*\u001b[0m\u001b[0mi\u001b[0m\u001b[1;33m\u001b[0m\u001b[1;33m\u001b[0m\u001b[0m\n\u001b[0m\u001b[0;32m      9\u001b[0m     \u001b[0mprint\u001b[0m\u001b[1;33m(\u001b[0m\u001b[1;34m\"the factorial of given number is\"\u001b[0m\u001b[1;33m)\u001b[0m\u001b[1;33m\u001b[0m\u001b[1;33m\u001b[0m\u001b[0m\n",
      "\u001b[1;31mNameError\u001b[0m: name 'factorial' is not defined"
     ]
    }
   ],
   "source": [
    "num=(int(input(\"enter a number\")))\n",
    "if num<0:\n",
    "    print(\"factorial doesnot exist for negative numbers\")\n",
    "elif num==0:\n",
    "    print(\"factorial for 0 is 1\")\n",
    "else:\n",
    "    for i in range (1,num+1):\n",
    "      factorial=factorial*i\n",
    "    print(\"the factorial of given number is\")"
   ]
  },
  {
   "cell_type": "code",
   "execution_count": 14,
   "metadata": {},
   "outputs": [
    {
     "name": "stdout",
     "output_type": "stream",
     "text": [
      "enter a number2\n",
      "the factorial is 2 is 2\n"
     ]
    }
   ],
   "source": [
    "n=int(input(\"enter a number\"))\n",
    "f=1\n",
    "for i in range(1,n+1):\n",
    "    f=f*i\n",
    "print(\"the factorial is\",n,\"is\",f)"
   ]
  },
  {
   "cell_type": "code",
   "execution_count": null,
   "metadata": {},
   "outputs": [],
   "source": []
  }
 ],
 "metadata": {
  "kernelspec": {
   "display_name": "Python 3",
   "language": "python",
   "name": "python3"
  },
  "language_info": {
   "codemirror_mode": {
    "name": "ipython",
    "version": 3
   },
   "file_extension": ".py",
   "mimetype": "text/x-python",
   "name": "python",
   "nbconvert_exporter": "python",
   "pygments_lexer": "ipython3",
   "version": "3.7.3"
  }
 },
 "nbformat": 4,
 "nbformat_minor": 2
}
